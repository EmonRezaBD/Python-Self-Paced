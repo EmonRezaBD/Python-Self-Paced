{
  "nbformat": 4,
  "nbformat_minor": 0,
  "metadata": {
    "colab": {
      "provenance": []
    },
    "kernelspec": {
      "name": "python3",
      "display_name": "Python 3"
    },
    "language_info": {
      "name": "python"
    }
  },
  "cells": [
    {
      "cell_type": "code",
      "execution_count": 1,
      "metadata": {
        "colab": {
          "base_uri": "https://localhost:8080/"
        },
        "id": "3KqbhsCyp5uW",
        "outputId": "b9c6d48c-da82-46dc-f5bf-c7f8086bb1e4"
      },
      "outputs": [
        {
          "output_type": "stream",
          "name": "stdout",
          "text": [
            "Hello World\n"
          ]
        }
      ],
      "source": [
        "print(\"Hello World\")"
      ]
    },
    {
      "cell_type": "code",
      "source": [
        "num1 = 40\n"
      ],
      "metadata": {
        "id": "nrB_hZZGqIJ_"
      },
      "execution_count": 2,
      "outputs": []
    },
    {
      "cell_type": "code",
      "source": [
        "if(num1>10):\n",
        "  print(\"greater than 10\")\n",
        "elif(num1<10):\n",
        "  print(\"less than 10\")\n",
        "else:\n",
        "  print(\"Nothing\")"
      ],
      "metadata": {
        "colab": {
          "base_uri": "https://localhost:8080/"
        },
        "id": "KAp8iwuQqOLu",
        "outputId": "990f714e-ede9-40d4-b77d-5e7cd49a1579"
      },
      "execution_count": 3,
      "outputs": [
        {
          "output_type": "stream",
          "name": "stdout",
          "text": [
            "greater than 10\n"
          ]
        }
      ]
    },
    {
      "cell_type": "code",
      "source": [
        "def display(x):\n",
        "  print(\"Hello World\", x)"
      ],
      "metadata": {
        "id": "ErL8J6UGqgZt"
      },
      "execution_count": 7,
      "outputs": []
    },
    {
      "cell_type": "code",
      "source": [
        "display(\". It's Reza a ML engineer\")\n",
        "display(2)"
      ],
      "metadata": {
        "colab": {
          "base_uri": "https://localhost:8080/"
        },
        "id": "QN_Mw7dEqnPP",
        "outputId": "75363fd5-8dcc-4b0a-f911-b7fa967a8fea"
      },
      "execution_count": 9,
      "outputs": [
        {
          "output_type": "stream",
          "name": "stdout",
          "text": [
            "Hello World . It's Reza a ML engineer\n",
            "Hello World 2\n"
          ]
        }
      ]
    },
    {
      "cell_type": "code",
      "source": [
        "def Main():\n",
        "  print(\"Started\")\n",
        "  o = display(3)\n",
        "  print(o)"
      ],
      "metadata": {
        "id": "fcmwUa6iq8qs"
      },
      "execution_count": 10,
      "outputs": []
    },
    {
      "cell_type": "code",
      "source": [
        "if __name__ == \"__main__\":\n",
        "  Main()"
      ],
      "metadata": {
        "colab": {
          "base_uri": "https://localhost:8080/"
        },
        "id": "x0elm700rLdO",
        "outputId": "8483bfaf-8170-4059-9a43-800c88005b2a"
      },
      "execution_count": 11,
      "outputs": [
        {
          "output_type": "stream",
          "name": "stdout",
          "text": [
            "Started\n",
            "Hello World 3\n",
            "None\n"
          ]
        }
      ]
    },
    {
      "cell_type": "code",
      "source": [
        " for i in range(5):\n",
        "   print(i,\" \")"
      ],
      "metadata": {
        "colab": {
          "base_uri": "https://localhost:8080/"
        },
        "id": "gLEqQPIqrpXw",
        "outputId": "e1bab80b-0ae9-4d01-98a7-0fa1d66bf94c"
      },
      "execution_count": 14,
      "outputs": [
        {
          "output_type": "stream",
          "name": "stdout",
          "text": [
            "0  \n",
            "1  \n",
            "2  \n",
            "3  \n",
            "4  \n"
          ]
        }
      ]
    },
    {
      "cell_type": "code",
      "source": [
        "s = \"Python self\"\n",
        "print(s[0:3])"
      ],
      "metadata": {
        "colab": {
          "base_uri": "https://localhost:8080/"
        },
        "id": "p7q8dgnGvOQI",
        "outputId": "4054b74b-c38a-4c8b-b72e-7693cf660335"
      },
      "execution_count": 24,
      "outputs": [
        {
          "output_type": "stream",
          "name": "stdout",
          "text": [
            "Pyt\n"
          ]
        }
      ]
    },
    {
      "cell_type": "code",
      "source": [
        "print(len(s))"
      ],
      "metadata": {
        "colab": {
          "base_uri": "https://localhost:8080/"
        },
        "id": "Zoq-JQzRyuOy",
        "outputId": "2454c739-28b0-4d33-cb81-c69e10056a18"
      },
      "execution_count": 25,
      "outputs": [
        {
          "output_type": "stream",
          "name": "stdout",
          "text": [
            "11\n"
          ]
        }
      ]
    },
    {
      "cell_type": "code",
      "source": [
        "L = [1, 2, \"str\", 0.233, 1+3]\n",
        "print(L) "
      ],
      "metadata": {
        "colab": {
          "base_uri": "https://localhost:8080/"
        },
        "id": "LtqGAeAzz8ab",
        "outputId": "b91f9239-f9de-4cc7-a08c-6130500436b9"
      },
      "execution_count": 29,
      "outputs": [
        {
          "output_type": "stream",
          "name": "stdout",
          "text": [
            "[1, 2, 'str', 0.233, 4]\n"
          ]
        }
      ]
    },
    {
      "cell_type": "code",
      "source": [
        "L.append(6)\n",
        "print(L)\n",
        "\n",
        "L.pop()\n",
        "print(L)"
      ],
      "metadata": {
        "colab": {
          "base_uri": "https://localhost:8080/"
        },
        "id": "E1Qb7QFT0xUO",
        "outputId": "372e7d96-359e-4d6f-ac99-ce8b21e10c61"
      },
      "execution_count": 34,
      "outputs": [
        {
          "output_type": "stream",
          "name": "stdout",
          "text": [
            "[1, 2, 'str', 0.233, 4, 6, 6, 6]\n",
            "[1, 2, 'str', 0.233, 4, 6, 6]\n"
          ]
        }
      ]
    },
    {
      "cell_type": "code",
      "source": [
        "#Tuples\n",
        "tup = (1, 2, 3, 1+2, \"str\")\n",
        "print(tup[1])"
      ],
      "metadata": {
        "colab": {
          "base_uri": "https://localhost:8080/"
        },
        "id": "69AKlFfB1Dnb",
        "outputId": "fc307aea-7a38-4450-ec15-f99bb64f4f44"
      },
      "execution_count": 37,
      "outputs": [
        {
          "output_type": "stream",
          "name": "stdout",
          "text": [
            "2\n"
          ]
        }
      ]
    },
    {
      "cell_type": "code",
      "source": [
        "i = 1\n",
        "while (i<=10):\n",
        "  print(i)\n",
        "  i+=1"
      ],
      "metadata": {
        "colab": {
          "base_uri": "https://localhost:8080/"
        },
        "id": "_-QQ1miz1PFa",
        "outputId": "b4c75ee9-9a98-461b-9f4d-5ae12f8aebb4"
      },
      "execution_count": 39,
      "outputs": [
        {
          "output_type": "stream",
          "name": "stdout",
          "text": [
            "1\n",
            "2\n",
            "3\n",
            "4\n",
            "5\n",
            "6\n",
            "7\n",
            "8\n",
            "9\n",
            "10\n"
          ]
        }
      ]
    },
    {
      "cell_type": "code",
      "source": [],
      "metadata": {
        "id": "hG_nnFYq1PRi"
      },
      "execution_count": null,
      "outputs": []
    }
  ]
}